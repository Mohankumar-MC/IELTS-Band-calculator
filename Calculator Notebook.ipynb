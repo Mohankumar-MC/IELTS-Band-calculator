{
 "cells": [
  {
   "cell_type": "markdown",
   "id": "4701dada",
   "metadata": {},
   "source": [
    "# Calculate Band"
   ]
  },
  {
   "cell_type": "code",
   "execution_count": 32,
   "id": "bf880e18",
   "metadata": {},
   "outputs": [
    {
     "name": "stdout",
     "output_type": "stream",
     "text": [
      "Lisiting Band of 9 : 8\n",
      "Reading Band of 9 : 8\n",
      "Writing Band of 9 : 8\n",
      "Speaking Band of 9 : 8\n"
     ]
    }
   ],
   "source": [
    "listeningBand = float(input(\"Lisiting Band of 9 : \"))\n",
    "readingBand = float(input(\"Reading Band of 9 : \"))\n",
    "writingBand = float(input(\"Writing Band of 9 : \"))\n",
    "speakingBand = float(input(\"Speaking Band of 9 : \"))"
   ]
  },
  {
   "cell_type": "code",
   "execution_count": 33,
   "id": "7e5aa548",
   "metadata": {},
   "outputs": [],
   "source": [
    "IELTS_band = (listeningBand+readingBand+writingBand+speakingBand)/4"
   ]
  },
  {
   "cell_type": "code",
   "execution_count": 34,
   "id": "884b594f",
   "metadata": {},
   "outputs": [
    {
     "name": "stdout",
     "output_type": "stream",
     "text": [
      "8.0\n"
     ]
    }
   ],
   "source": [
    "print(IELTS_band)"
   ]
  },
  {
   "cell_type": "markdown",
   "id": "84cb86fd",
   "metadata": {},
   "source": [
    "# Listening Section"
   ]
  },
  {
   "cell_type": "code",
   "execution_count": 39,
   "id": "b370400b",
   "metadata": {},
   "outputs": [
    {
     "name": "stdout",
     "output_type": "stream",
     "text": [
      "Lisiting Section1 of 10 : 2\n",
      "Lisiting Section2 of 10 : 3\n",
      "Lisiting Section3 of 10 : 4\n",
      "Lisiting Section4 of 10 : 5\n"
     ]
    }
   ],
   "source": [
    "Section1 = float(input(\"Listening Section1 of 10 : \"))\n",
    "Section2 = float(input(\"Listening Section2 of 10 : \"))\n",
    "Section3 = float(input(\"Listening Section3 of 10 : \"))\n",
    "Section4 = float(input(\"Listening Section4 of 10 : \"))"
   ]
  },
  {
   "cell_type": "code",
   "execution_count": 40,
   "id": "c4e9cbc3",
   "metadata": {},
   "outputs": [
    {
     "name": "stdout",
     "output_type": "stream",
     "text": [
      "3.1499999999999995\n"
     ]
    }
   ],
   "source": [
    "Avg = ((Section1+Section2+Section3+Section4)/40)*90\n",
    "reading_Band = Avg/10\n",
    "print(reading_Band)"
   ]
  },
  {
   "cell_type": "code",
   "execution_count": null,
   "id": "3a7d2118",
   "metadata": {},
   "outputs": [],
   "source": []
  }
 ],
 "metadata": {
  "kernelspec": {
   "display_name": "Python 3",
   "language": "python",
   "name": "python3"
  },
  "language_info": {
   "codemirror_mode": {
    "name": "ipython",
    "version": 3
   },
   "file_extension": ".py",
   "mimetype": "text/x-python",
   "name": "python",
   "nbconvert_exporter": "python",
   "pygments_lexer": "ipython3",
   "version": "3.8.8"
  }
 },
 "nbformat": 4,
 "nbformat_minor": 5
}
